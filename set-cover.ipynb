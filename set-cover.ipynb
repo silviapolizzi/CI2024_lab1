{
 "cells": [
  {
   "cell_type": "markdown",
   "metadata": {},
   "source": [
    "Copyright **`(c)`** 2024 Giovanni Squillero `<giovanni.squillero@polito.it>`  \n",
    "[`https://github.com/squillero/computational-intelligence`](https://github.com/squillero/computational-intelligence)  \n",
    "Free for personal or classroom use; see [`LICENSE.md`](https://github.com/squillero/computational-intelligence/blob/master/LICENSE.md) for details.  "
   ]
  },
  {
   "cell_type": "markdown",
   "metadata": {},
   "source": [
    "# Set Cover problem\n",
    "\n",
    "See: https://en.wikipedia.org/wiki/Set_cover_problem"
   ]
  },
  {
   "cell_type": "code",
   "execution_count": 13,
   "metadata": {},
   "outputs": [],
   "source": [
    "from random import random, seed\n",
    "from itertools import product\n",
    "import numpy as np\n",
    "import matplotlib.pyplot as plt\n",
    "from tqdm.auto import tqdm\n",
    "from icecream import ic\n"
   ]
  },
  {
   "cell_type": "markdown",
   "metadata": {},
   "source": [
    "## Reproducible Initialization\n",
    "\n",
    "If you want to get reproducible results, use `rng` (and restart the kernel); for non-reproducible ones, use `np.random`."
   ]
  },
  {
   "cell_type": "code",
   "execution_count": 14,
   "metadata": {},
   "outputs": [],
   "source": [
    "# UNIVERSE_SIZE = 100\n",
    "# NUM_SETS = 10\n",
    "# DENSITY = 0.2  # how dense are the sets (low density means each set has few elements)\n",
    "\n",
    "# rng = np.random.Generator(np.random.PCG64([UNIVERSE_SIZE, NUM_SETS, int(10_000 * DENSITY)]))"
   ]
  },
  {
   "cell_type": "code",
   "execution_count": 15,
   "metadata": {},
   "outputs": [],
   "source": [
    "# DON'T EDIT THESE LINES!\n",
    "\n",
    "# SETS = np.random.random((NUM_SETS, UNIVERSE_SIZE)) < DENSITY\n",
    "# for s in range(UNIVERSE_SIZE):\n",
    "#     if not np.any(SETS[:, s]):\n",
    "#         SETS[np.random.randint(NUM_SETS), s] = True\n",
    "# COSTS = np.pow(SETS.sum(axis=1), 1.1)"
   ]
  },
  {
   "cell_type": "markdown",
   "metadata": {},
   "source": [
    "## Helper Functions"
   ]
  },
  {
   "cell_type": "code",
   "execution_count": 16,
   "metadata": {},
   "outputs": [],
   "source": [
    "# def valid(solution):\n",
    "def valid(solution, sets):\n",
    "    \"\"\"Checks wether solution is valid (ie. covers all universe)\"\"\"\n",
    "    return np.all(np.logical_or.reduce(sets[solution]))\n",
    "\n",
    "\n",
    "def cost(solution, costs):\n",
    "    \"\"\"Returns the cost of a solution (to be minimized)\"\"\"\n",
    "    return costs[solution].sum()"
   ]
  },
  {
   "cell_type": "markdown",
   "metadata": {},
   "source": [
    "## Have Fun!"
   ]
  },
  {
   "cell_type": "code",
   "execution_count": 17,
   "metadata": {},
   "outputs": [],
   "source": [
    "# A dumb solution of \"all\" sets\n",
    "# solution = np.full(NUM_SETS, True)\n",
    "# valid(solution), cost(solution)"
   ]
  },
  {
   "cell_type": "code",
   "execution_count": 18,
   "metadata": {},
   "outputs": [],
   "source": [
    "# A random solution with random 50% of the sets\n",
    "# solution = rng.random(NUM_SETS) < .5\n",
    "# valid(solution), cost(solution)"
   ]
  },
  {
   "cell_type": "code",
   "execution_count": 19,
   "metadata": {},
   "outputs": [],
   "source": [
    "def fitness(solution, sets, costs): # fitness is something to be maximized, minimizing cost instead\n",
    "    return (valid(solution,sets),-cost(solution, costs) )\n"
   ]
  },
  {
   "cell_type": "markdown",
   "metadata": {},
   "source": [
    "## Solution - 1 - Random Hill Climbing"
   ]
  },
  {
   "cell_type": "code",
   "execution_count": 20,
   "metadata": {},
   "outputs": [],
   "source": [
    "def hill_climber(solution, SETS, COSTS, NUM_SETS, max_steps):\n",
    "    # Inizializzazione: Soluzione vuota, ovvero nessun sottoinsieme selezionato\n",
    "    #best_value = float('inf')  # Cost iniziale alto (perché vogliamo minimizzare)\n",
    "    history = [valid(solution, SETS)]\n",
    "\n",
    "    for step in tqdm(range(max_steps)):\n",
    "        # Crea una nuova soluzione facendo il tweak \n",
    "        new_solution = solution.copy()\n",
    "        index = np.random.randint(0, NUM_SETS)\n",
    "        new_solution[index] = not new_solution[index]  # Aggiungi o rimuovi il sottoinsieme selezionato\n",
    "        history.append(valid(new_solution, SETS))\n",
    "        if fitness(new_solution, SETS, COSTS) > fitness(solution, SETS, COSTS):\n",
    "            solution = new_solution\n",
    "\n",
    "    ic(fitness(solution, SETS, COSTS))\n",
    "    return solution, history\n"
   ]
  },
  {
   "cell_type": "code",
   "execution_count": 21,
   "metadata": {},
   "outputs": [],
   "source": [
    "def simulated_annealing(solution, SETS, COSTS, NUM_SETS, max_steps, initial_temp, cooling_rate):\n",
    "    current_solution = solution.copy()\n",
    "    current_fitness = fitness(current_solution, SETS, COSTS)\n",
    "    best_solution = current_solution\n",
    "    best_fitness = current_fitness\n",
    "    temp = initial_temp\n",
    "    \n",
    "    history = [current_fitness]\n",
    "\n",
    "    for step in tqdm(range(max_steps)):\n",
    "        if temp <= 0:\n",
    "            break\n",
    "        new_solution = current_solution.copy()\n",
    "        index = np.random.randint(0, NUM_SETS)\n",
    "        new_solution[index] = not new_solution[index]\n",
    "        new_fitness = fitness(new_solution, SETS, COSTS)\n",
    "        \n",
    "        # Se la nuova soluzione è migliore, la accettiamo\n",
    "        if new_fitness > current_fitness:\n",
    "            current_solution = new_solution\n",
    "            current_fitness = new_fitness\n",
    "        else:\n",
    "            # Altrimenti accettiamo con una probabilità basata sulla temperatura\n",
    "            delta = new_fitness[1] - current_fitness[1]  # confronto sui costi\n",
    "            if np.random.rand() < np.exp(delta / temp):\n",
    "                current_solution = new_solution\n",
    "                current_fitness = new_fitness\n",
    "        \n",
    "        # Raffreddamento della temperatura\n",
    "        temp *= cooling_rate\n",
    "        \n",
    "        history.append(current_fitness)\n",
    "        if current_fitness > best_fitness:\n",
    "            best_solution = current_solution\n",
    "            best_fitness = current_fitness\n",
    "    \n",
    "    return best_solution, history\n"
   ]
  },
  {
   "cell_type": "code",
   "execution_count": 22,
   "metadata": {},
   "outputs": [],
   "source": [
    "def tweak(solution, NUM_SETS):\n",
    "    \"\"\"Effettua una piccola modifica alla soluzione corrente\"\"\"\n",
    "    new_solution = solution.copy()\n",
    "    index = np.random.randint(0, NUM_SETS)\n",
    "    new_solution[index] = not new_solution[index]\n",
    "    return new_solution\n"
   ]
  },
  {
   "cell_type": "code",
   "execution_count": 23,
   "metadata": {},
   "outputs": [],
   "source": [
    "def steepest_ascent_with_restart(SETS, COSTS, NUM_SETS, max_steps, num_restarts, candidates_per_step):\n",
    "    best_solution = None\n",
    "    max_value = -float('inf')  # Partiamo dal peggiore valore possibile\n",
    "    num_steps = 0\n",
    "    history = list()\n",
    "\n",
    "    for r in tqdm(range(num_restarts), desc=\"Restarts\"):\n",
    "        # Inizializza la soluzione per questo restart\n",
    "        solution = np.random.choice([True, False], size=NUM_SETS)\n",
    "        history.append(valid(solution, SETS))\n",
    "\n",
    "        for step in tqdm(range(max_steps), desc=\"Steps\"):\n",
    "            # Genera una serie di soluzioni candidate (tweak della soluzione attuale)\n",
    "            candidates = [tweak(solution, NUM_SETS) for _ in range(candidates_per_step)]\n",
    "            candidates_fitness = [fitness(c, SETS, COSTS) for c in candidates]\n",
    "\n",
    "            # Trova la soluzione con il miglioramento più ripido\n",
    "            idx = np.argmax([f[0] for f in candidates_fitness])\n",
    "            new_solution = candidates[idx]\n",
    "            new_fitness = candidates_fitness[idx]\n",
    "\n",
    "            num_steps += candidates_per_step\n",
    "            history.append(new_fitness[0])\n",
    "\n",
    "            # Se la nuova soluzione è migliore, aggiorna la soluzione corrente\n",
    "            if new_fitness > fitness(solution, SETS, COSTS):\n",
    "                solution = new_solution\n",
    "\n",
    "        # Se la soluzione di questo restart è la migliore trovata, aggiorna la soluzione globale\n",
    "        if fitness(solution, SETS, COSTS)[1] > max_value:  # [1] è il costo negativo\n",
    "            max_value = fitness(solution, SETS, COSTS)[1]  # Aggiorniamo solo il valore del costo\n",
    "            best_solution = solution\n",
    "\n",
    "    return best_solution, history\n"
   ]
  },
  {
   "cell_type": "code",
   "execution_count": 24,
   "metadata": {},
   "outputs": [
    {
     "name": "stdout",
     "output_type": "stream",
     "text": [
      "\n",
      "--- Running for Universe size=100, Num sets=10, Density=0.2 ---\n",
      "Running Hill Climber...\n"
     ]
    },
    {
     "data": {
      "application/vnd.jupyter.widget-view+json": {
       "model_id": "15d532b902e74f4e9e776ab8ca652687",
       "version_major": 2,
       "version_minor": 0
      },
      "text/plain": [
       "  0%|          | 0/1000 [00:00<?, ?it/s]"
      ]
     },
     "metadata": {},
     "output_type": "display_data"
    },
    {
     "name": "stderr",
     "output_type": "stream",
     "text": [
      "ic| fitness(solution, SETS, COSTS): (np.True_, np.float64(-304.4003633618365))\n"
     ]
    },
    {
     "name": "stdout",
     "output_type": "stream",
     "text": [
      "Running Simulated Annealing...\n"
     ]
    },
    {
     "data": {
      "application/vnd.jupyter.widget-view+json": {
       "model_id": "5010f5ca76404245a8f7da5fb52b9dd4",
       "version_major": 2,
       "version_minor": 0
      },
      "text/plain": [
       "  0%|          | 0/1000 [00:00<?, ?it/s]"
      ]
     },
     "metadata": {},
     "output_type": "display_data"
    },
    {
     "name": "stdout",
     "output_type": "stream",
     "text": [
      "Running Steepest Ascent with Restarts...\n"
     ]
    },
    {
     "data": {
      "application/vnd.jupyter.widget-view+json": {
       "model_id": "7f67665b2e0e48828483fd617887ce6f",
       "version_major": 2,
       "version_minor": 0
      },
      "text/plain": [
       "Restarts:   0%|          | 0/5 [00:00<?, ?it/s]"
      ]
     },
     "metadata": {},
     "output_type": "display_data"
    },
    {
     "data": {
      "application/vnd.jupyter.widget-view+json": {
       "model_id": "8259644432cf4f129a445e2b2555df09",
       "version_major": 2,
       "version_minor": 0
      },
      "text/plain": [
       "Steps:   0%|          | 0/1000 [00:00<?, ?it/s]"
      ]
     },
     "metadata": {},
     "output_type": "display_data"
    },
    {
     "data": {
      "application/vnd.jupyter.widget-view+json": {
       "model_id": "d47ef63106324d8fbaa05c74615d1c3e",
       "version_major": 2,
       "version_minor": 0
      },
      "text/plain": [
       "Steps:   0%|          | 0/1000 [00:00<?, ?it/s]"
      ]
     },
     "metadata": {},
     "output_type": "display_data"
    },
    {
     "data": {
      "application/vnd.jupyter.widget-view+json": {
       "model_id": "18d15e7443e14bcfbde65e93d3cd0ea7",
       "version_major": 2,
       "version_minor": 0
      },
      "text/plain": [
       "Steps:   0%|          | 0/1000 [00:00<?, ?it/s]"
      ]
     },
     "metadata": {},
     "output_type": "display_data"
    },
    {
     "data": {
      "application/vnd.jupyter.widget-view+json": {
       "model_id": "cd9920c39e2a4adfb502389adfad10cb",
       "version_major": 2,
       "version_minor": 0
      },
      "text/plain": [
       "Steps:   0%|          | 0/1000 [00:00<?, ?it/s]"
      ]
     },
     "metadata": {},
     "output_type": "display_data"
    },
    {
     "data": {
      "application/vnd.jupyter.widget-view+json": {
       "model_id": "cf4af176eb5a48b1b19f5bfb75aee396",
       "version_major": 2,
       "version_minor": 0
      },
      "text/plain": [
       "Steps:   0%|          | 0/1000 [00:00<?, ?it/s]"
      ]
     },
     "metadata": {},
     "output_type": "display_data"
    },
    {
     "name": "stdout",
     "output_type": "stream",
     "text": [
      "Hill Climber best solution cost: 304.4003633618365\n",
      "Simulated Annealing best solution cost: 304.4003633618365\n",
      "Steepest Ascent with Restarts best solution cost: 0.0\n",
      "\n",
      "--- Running for Universe size=1000, Num sets=100, Density=0.2 ---\n",
      "Running Hill Climber...\n"
     ]
    },
    {
     "data": {
      "application/vnd.jupyter.widget-view+json": {
       "model_id": "546ec98f08954ef7a6853c168906265b",
       "version_major": 2,
       "version_minor": 0
      },
      "text/plain": [
       "  0%|          | 0/1000 [00:00<?, ?it/s]"
      ]
     },
     "metadata": {},
     "output_type": "display_data"
    },
    {
     "name": "stderr",
     "output_type": "stream",
     "text": [
      "ic| fitness(solution, SETS, COSTS): (np.True_, np.float64(-6736.330250708342))\n"
     ]
    },
    {
     "name": "stdout",
     "output_type": "stream",
     "text": [
      "Running Simulated Annealing...\n"
     ]
    },
    {
     "data": {
      "application/vnd.jupyter.widget-view+json": {
       "model_id": "378bd8bdb6a74694ad28938839e00004",
       "version_major": 2,
       "version_minor": 0
      },
      "text/plain": [
       "  0%|          | 0/1000 [00:00<?, ?it/s]"
      ]
     },
     "metadata": {},
     "output_type": "display_data"
    },
    {
     "name": "stdout",
     "output_type": "stream",
     "text": [
      "Running Steepest Ascent with Restarts...\n"
     ]
    },
    {
     "data": {
      "application/vnd.jupyter.widget-view+json": {
       "model_id": "f944e83f604e404fa7a795da87ca4c2f",
       "version_major": 2,
       "version_minor": 0
      },
      "text/plain": [
       "Restarts:   0%|          | 0/5 [00:00<?, ?it/s]"
      ]
     },
     "metadata": {},
     "output_type": "display_data"
    },
    {
     "data": {
      "application/vnd.jupyter.widget-view+json": {
       "model_id": "c1fbf46ff7714919a2c2d1671d3f5f90",
       "version_major": 2,
       "version_minor": 0
      },
      "text/plain": [
       "Steps:   0%|          | 0/1000 [00:00<?, ?it/s]"
      ]
     },
     "metadata": {},
     "output_type": "display_data"
    },
    {
     "data": {
      "application/vnd.jupyter.widget-view+json": {
       "model_id": "2e61b2910b7749c28ba854d2c24b2694",
       "version_major": 2,
       "version_minor": 0
      },
      "text/plain": [
       "Steps:   0%|          | 0/1000 [00:00<?, ?it/s]"
      ]
     },
     "metadata": {},
     "output_type": "display_data"
    },
    {
     "data": {
      "application/vnd.jupyter.widget-view+json": {
       "model_id": "1d3858ecd6634574bc563b3f60657b54",
       "version_major": 2,
       "version_minor": 0
      },
      "text/plain": [
       "Steps:   0%|          | 0/1000 [00:00<?, ?it/s]"
      ]
     },
     "metadata": {},
     "output_type": "display_data"
    },
    {
     "data": {
      "application/vnd.jupyter.widget-view+json": {
       "model_id": "c908bb2500e740768a587bfc2db776e0",
       "version_major": 2,
       "version_minor": 0
      },
      "text/plain": [
       "Steps:   0%|          | 0/1000 [00:00<?, ?it/s]"
      ]
     },
     "metadata": {},
     "output_type": "display_data"
    },
    {
     "data": {
      "application/vnd.jupyter.widget-view+json": {
       "model_id": "c2a86c077dbb420dbb41fc385051d1b1",
       "version_major": 2,
       "version_minor": 0
      },
      "text/plain": [
       "Steps:   0%|          | 0/1000 [00:00<?, ?it/s]"
      ]
     },
     "metadata": {},
     "output_type": "display_data"
    },
    {
     "name": "stdout",
     "output_type": "stream",
     "text": [
      "Hill Climber best solution cost: 6736.330250708342\n",
      "Simulated Annealing best solution cost: 10126.911552675627\n",
      "Steepest Ascent with Restarts best solution cost: 6443.071144445192\n",
      "\n",
      "--- Running for Universe size=10000, Num sets=1000, Density=0.2 ---\n",
      "Running Hill Climber...\n"
     ]
    },
    {
     "data": {
      "application/vnd.jupyter.widget-view+json": {
       "model_id": "67645d2f40a64228af0959f96ca741de",
       "version_major": 2,
       "version_minor": 0
      },
      "text/plain": [
       "  0%|          | 0/1000 [00:00<?, ?it/s]"
      ]
     },
     "metadata": {},
     "output_type": "display_data"
    },
    {
     "name": "stderr",
     "output_type": "stream",
     "text": [
      "ic| fitness(solution, SETS, COSTS): (np.True_, np.float64(-1559282.6469905607))\n"
     ]
    },
    {
     "name": "stdout",
     "output_type": "stream",
     "text": [
      "Running Simulated Annealing...\n"
     ]
    },
    {
     "data": {
      "application/vnd.jupyter.widget-view+json": {
       "model_id": "c73697309ffe410b8ef1175efc3face6",
       "version_major": 2,
       "version_minor": 0
      },
      "text/plain": [
       "  0%|          | 0/1000 [00:00<?, ?it/s]"
      ]
     },
     "metadata": {},
     "output_type": "display_data"
    },
    {
     "name": "stdout",
     "output_type": "stream",
     "text": [
      "Running Steepest Ascent with Restarts...\n"
     ]
    },
    {
     "data": {
      "application/vnd.jupyter.widget-view+json": {
       "model_id": "b35edd85ecc14fc6ab3d647c0f7a93fc",
       "version_major": 2,
       "version_minor": 0
      },
      "text/plain": [
       "Restarts:   0%|          | 0/5 [00:00<?, ?it/s]"
      ]
     },
     "metadata": {},
     "output_type": "display_data"
    },
    {
     "data": {
      "application/vnd.jupyter.widget-view+json": {
       "model_id": "69858dde80e040fc80a281b9f365a47a",
       "version_major": 2,
       "version_minor": 0
      },
      "text/plain": [
       "Steps:   0%|          | 0/1000 [00:00<?, ?it/s]"
      ]
     },
     "metadata": {},
     "output_type": "display_data"
    },
    {
     "data": {
      "application/vnd.jupyter.widget-view+json": {
       "model_id": "5b44c1b3888f46e5a806287a0653cd19",
       "version_major": 2,
       "version_minor": 0
      },
      "text/plain": [
       "Steps:   0%|          | 0/1000 [00:00<?, ?it/s]"
      ]
     },
     "metadata": {},
     "output_type": "display_data"
    },
    {
     "data": {
      "application/vnd.jupyter.widget-view+json": {
       "model_id": "a9c1170678704da4b20dd2c1619a2678",
       "version_major": 2,
       "version_minor": 0
      },
      "text/plain": [
       "Steps:   0%|          | 0/1000 [00:00<?, ?it/s]"
      ]
     },
     "metadata": {},
     "output_type": "display_data"
    },
    {
     "data": {
      "application/vnd.jupyter.widget-view+json": {
       "model_id": "39f4f54e30e94303bd2ca36cc7b5c6ac",
       "version_major": 2,
       "version_minor": 0
      },
      "text/plain": [
       "Steps:   0%|          | 0/1000 [00:00<?, ?it/s]"
      ]
     },
     "metadata": {},
     "output_type": "display_data"
    },
    {
     "data": {
      "application/vnd.jupyter.widget-view+json": {
       "model_id": "8b025e839bb9432ca3ce463beaf2c7b6",
       "version_major": 2,
       "version_minor": 0
      },
      "text/plain": [
       "Steps:   0%|          | 0/1000 [00:00<?, ?it/s]"
      ]
     },
     "metadata": {},
     "output_type": "display_data"
    },
    {
     "name": "stdout",
     "output_type": "stream",
     "text": [
      "Hill Climber best solution cost: 1559282.6469905607\n",
      "Simulated Annealing best solution cost: 1632276.4141038468\n",
      "Steepest Ascent with Restarts best solution cost: 725679.3669115796\n",
      "\n",
      "--- Running for Universe size=100000, Num sets=10000, Density=0.1 ---\n",
      "Running Hill Climber...\n"
     ]
    },
    {
     "data": {
      "application/vnd.jupyter.widget-view+json": {
       "model_id": "59a9ad65d4734147909f55886efc83eb",
       "version_major": 2,
       "version_minor": 0
      },
      "text/plain": [
       "  0%|          | 0/1000 [00:00<?, ?it/s]"
      ]
     },
     "metadata": {},
     "output_type": "display_data"
    },
    {
     "name": "stderr",
     "output_type": "stream",
     "text": [
      "ic| fitness(solution, SETS, COSTS): (np.True_, np.float64(-227220272.83219087))\n"
     ]
    },
    {
     "name": "stdout",
     "output_type": "stream",
     "text": [
      "Running Simulated Annealing...\n"
     ]
    },
    {
     "data": {
      "application/vnd.jupyter.widget-view+json": {
       "model_id": "aa2fe6231c0442b69ba19f30618877fa",
       "version_major": 2,
       "version_minor": 0
      },
      "text/plain": [
       "  0%|          | 0/1000 [00:00<?, ?it/s]"
      ]
     },
     "metadata": {},
     "output_type": "display_data"
    },
    {
     "name": "stdout",
     "output_type": "stream",
     "text": [
      "Running Steepest Ascent with Restarts...\n"
     ]
    },
    {
     "data": {
      "application/vnd.jupyter.widget-view+json": {
       "model_id": "fee1893ee57b4e50bd5cdedbbd2a3ebb",
       "version_major": 2,
       "version_minor": 0
      },
      "text/plain": [
       "Restarts:   0%|          | 0/5 [00:00<?, ?it/s]"
      ]
     },
     "metadata": {},
     "output_type": "display_data"
    },
    {
     "data": {
      "application/vnd.jupyter.widget-view+json": {
       "model_id": "935bedd9e88a45f0a75942da8919fb19",
       "version_major": 2,
       "version_minor": 0
      },
      "text/plain": [
       "Steps:   0%|          | 0/1000 [00:00<?, ?it/s]"
      ]
     },
     "metadata": {},
     "output_type": "display_data"
    },
    {
     "data": {
      "application/vnd.jupyter.widget-view+json": {
       "model_id": "68917c27bdae48bb8cce5b2ea58a5370",
       "version_major": 2,
       "version_minor": 0
      },
      "text/plain": [
       "Steps:   0%|          | 0/1000 [00:00<?, ?it/s]"
      ]
     },
     "metadata": {},
     "output_type": "display_data"
    },
    {
     "data": {
      "application/vnd.jupyter.widget-view+json": {
       "model_id": "6e401d086ded4dc990ed0bb4ffa1f3c3",
       "version_major": 2,
       "version_minor": 0
      },
      "text/plain": [
       "Steps:   0%|          | 0/1000 [00:00<?, ?it/s]"
      ]
     },
     "metadata": {},
     "output_type": "display_data"
    },
    {
     "data": {
      "application/vnd.jupyter.widget-view+json": {
       "model_id": "04145e5d87f046d18e6b16cd32699664",
       "version_major": 2,
       "version_minor": 0
      },
      "text/plain": [
       "Steps:   0%|          | 0/1000 [00:00<?, ?it/s]"
      ]
     },
     "metadata": {},
     "output_type": "display_data"
    },
    {
     "data": {
      "application/vnd.jupyter.widget-view+json": {
       "model_id": "05e067ef4ada472ba7447f76ce222f06",
       "version_major": 2,
       "version_minor": 0
      },
      "text/plain": [
       "Steps:   0%|          | 0/1000 [00:00<?, ?it/s]"
      ]
     },
     "metadata": {},
     "output_type": "display_data"
    },
    {
     "name": "stdout",
     "output_type": "stream",
     "text": [
      "Hill Climber best solution cost: 227220272.83219087\n",
      "Simulated Annealing best solution cost: 226921366.29290757\n",
      "Steepest Ascent with Restarts best solution cost: 112061760.05096063\n",
      "\n",
      "--- Running for Universe size=100000, Num sets=10000, Density=0.2 ---\n",
      "Running Hill Climber...\n"
     ]
    },
    {
     "data": {
      "application/vnd.jupyter.widget-view+json": {
       "model_id": "3a896d06971d473bac070232bbb949eb",
       "version_major": 2,
       "version_minor": 0
      },
      "text/plain": [
       "  0%|          | 0/1000 [00:00<?, ?it/s]"
      ]
     },
     "metadata": {},
     "output_type": "display_data"
    },
    {
     "name": "stderr",
     "output_type": "stream",
     "text": [
      "ic| fitness(solution, SETS, COSTS): (np.True_, np.float64(-487680806.763598))\n"
     ]
    },
    {
     "name": "stdout",
     "output_type": "stream",
     "text": [
      "Running Simulated Annealing...\n"
     ]
    },
    {
     "data": {
      "application/vnd.jupyter.widget-view+json": {
       "model_id": "b2cc147d34b540d3a56c299fdeb8dfda",
       "version_major": 2,
       "version_minor": 0
      },
      "text/plain": [
       "  0%|          | 0/1000 [00:00<?, ?it/s]"
      ]
     },
     "metadata": {},
     "output_type": "display_data"
    },
    {
     "name": "stdout",
     "output_type": "stream",
     "text": [
      "Running Steepest Ascent with Restarts...\n"
     ]
    },
    {
     "data": {
      "application/vnd.jupyter.widget-view+json": {
       "model_id": "5fd2efc0d3e24329a1dfd7671e2cf989",
       "version_major": 2,
       "version_minor": 0
      },
      "text/plain": [
       "Restarts:   0%|          | 0/5 [00:00<?, ?it/s]"
      ]
     },
     "metadata": {},
     "output_type": "display_data"
    },
    {
     "data": {
      "application/vnd.jupyter.widget-view+json": {
       "model_id": "5800c921b9c64c50bc8013aabe24c81e",
       "version_major": 2,
       "version_minor": 0
      },
      "text/plain": [
       "Steps:   0%|          | 0/1000 [00:00<?, ?it/s]"
      ]
     },
     "metadata": {},
     "output_type": "display_data"
    },
    {
     "data": {
      "application/vnd.jupyter.widget-view+json": {
       "model_id": "6c74a827f8b140138a02afe916c5a1f9",
       "version_major": 2,
       "version_minor": 0
      },
      "text/plain": [
       "Steps:   0%|          | 0/1000 [00:00<?, ?it/s]"
      ]
     },
     "metadata": {},
     "output_type": "display_data"
    },
    {
     "data": {
      "application/vnd.jupyter.widget-view+json": {
       "model_id": "6ba0b9628b8b448f8b2d71d270a2acb4",
       "version_major": 2,
       "version_minor": 0
      },
      "text/plain": [
       "Steps:   0%|          | 0/1000 [00:00<?, ?it/s]"
      ]
     },
     "metadata": {},
     "output_type": "display_data"
    },
    {
     "data": {
      "application/vnd.jupyter.widget-view+json": {
       "model_id": "86142b1f83934bc984e3f6a78dc91524",
       "version_major": 2,
       "version_minor": 0
      },
      "text/plain": [
       "Steps:   0%|          | 0/1000 [00:00<?, ?it/s]"
      ]
     },
     "metadata": {},
     "output_type": "display_data"
    },
    {
     "data": {
      "application/vnd.jupyter.widget-view+json": {
       "model_id": "e5bd788e534c415eb5a8f1e7890b5822",
       "version_major": 2,
       "version_minor": 0
      },
      "text/plain": [
       "Steps:   0%|          | 0/1000 [00:00<?, ?it/s]"
      ]
     },
     "metadata": {},
     "output_type": "display_data"
    },
    {
     "name": "stdout",
     "output_type": "stream",
     "text": [
      "Hill Climber best solution cost: 487680806.763598\n",
      "Simulated Annealing best solution cost: 487623885.5841271\n",
      "Steepest Ascent with Restarts best solution cost: 241530032.9250842\n",
      "\n",
      "--- Running for Universe size=100000, Num sets=10000, Density=0.3 ---\n",
      "Running Hill Climber...\n"
     ]
    },
    {
     "data": {
      "application/vnd.jupyter.widget-view+json": {
       "model_id": "883ffc2c63714b0c97931996ff042c5a",
       "version_major": 2,
       "version_minor": 0
      },
      "text/plain": [
       "  0%|          | 0/1000 [00:00<?, ?it/s]"
      ]
     },
     "metadata": {},
     "output_type": "display_data"
    },
    {
     "name": "stderr",
     "output_type": "stream",
     "text": [
      "ic| fitness(solution, SETS, COSTS): (np.True_, np.float64(-761222597.2389413))\n"
     ]
    },
    {
     "name": "stdout",
     "output_type": "stream",
     "text": [
      "Running Simulated Annealing...\n"
     ]
    },
    {
     "data": {
      "application/vnd.jupyter.widget-view+json": {
       "model_id": "6eafa2692723467cba4806575faa4662",
       "version_major": 2,
       "version_minor": 0
      },
      "text/plain": [
       "  0%|          | 0/1000 [00:00<?, ?it/s]"
      ]
     },
     "metadata": {},
     "output_type": "display_data"
    },
    {
     "name": "stdout",
     "output_type": "stream",
     "text": [
      "Running Steepest Ascent with Restarts...\n"
     ]
    },
    {
     "data": {
      "application/vnd.jupyter.widget-view+json": {
       "model_id": "73bae6c13b534da2ba9df9b6bb786590",
       "version_major": 2,
       "version_minor": 0
      },
      "text/plain": [
       "Restarts:   0%|          | 0/5 [00:00<?, ?it/s]"
      ]
     },
     "metadata": {},
     "output_type": "display_data"
    },
    {
     "data": {
      "application/vnd.jupyter.widget-view+json": {
       "model_id": "2dadb6e9a58c4bd9842b35ac6ce1b5c0",
       "version_major": 2,
       "version_minor": 0
      },
      "text/plain": [
       "Steps:   0%|          | 0/1000 [00:00<?, ?it/s]"
      ]
     },
     "metadata": {},
     "output_type": "display_data"
    },
    {
     "data": {
      "application/vnd.jupyter.widget-view+json": {
       "model_id": "06e47507e66b47faa17e131be62a2182",
       "version_major": 2,
       "version_minor": 0
      },
      "text/plain": [
       "Steps:   0%|          | 0/1000 [00:00<?, ?it/s]"
      ]
     },
     "metadata": {},
     "output_type": "display_data"
    },
    {
     "data": {
      "application/vnd.jupyter.widget-view+json": {
       "model_id": "23d1028f79b2446fba622781ab05605a",
       "version_major": 2,
       "version_minor": 0
      },
      "text/plain": [
       "Steps:   0%|          | 0/1000 [00:00<?, ?it/s]"
      ]
     },
     "metadata": {},
     "output_type": "display_data"
    },
    {
     "data": {
      "application/vnd.jupyter.widget-view+json": {
       "model_id": "6f2bf0082c0b4f7db870f3f7bb10d274",
       "version_major": 2,
       "version_minor": 0
      },
      "text/plain": [
       "Steps:   0%|          | 0/1000 [00:00<?, ?it/s]"
      ]
     },
     "metadata": {},
     "output_type": "display_data"
    },
    {
     "data": {
      "application/vnd.jupyter.widget-view+json": {
       "model_id": "764a802a12284da3b140548f78547437",
       "version_major": 2,
       "version_minor": 0
      },
      "text/plain": [
       "Steps:   0%|          | 0/1000 [00:00<?, ?it/s]"
      ]
     },
     "metadata": {},
     "output_type": "display_data"
    },
    {
     "name": "stdout",
     "output_type": "stream",
     "text": [
      "Hill Climber best solution cost: 761222597.2389413\n",
      "Simulated Annealing best solution cost: 761712495.0806645\n",
      "Steepest Ascent with Restarts best solution cost: 375370696.3544909\n"
     ]
    }
   ],
   "source": [
    "# Funzione per generare i set di dati\n",
    "def generate_sets(universe_size, num_sets, density):\n",
    "    # Generazione dei sottoinsiemi e costi\n",
    "    SETS = np.random.random((num_sets, universe_size)) < density\n",
    "    for s in range(universe_size):\n",
    "        if not np.any(SETS[:, s]):\n",
    "            SETS[np.random.randint(num_sets), s] = True\n",
    "    COSTS = np.pow(SETS.sum(axis=1), 1.1)\n",
    "    return SETS, COSTS\n",
    "\n",
    "\n",
    "# Funzione per eseguire i test per ciascuna combinazione di parametri\n",
    "def run_experiments():\n",
    "\n",
    "    instances = [\n",
    "        {\"Universe size\": 100, \"Num sets\": 10, \"Density\": 0.2},\n",
    "        {\"Universe size\": 1_000, \"Num sets\": 100, \"Density\": 0.2},\n",
    "        {\"Universe size\": 10_000, \"Num sets\": 1_000, \"Density\": 0.2},\n",
    "        {\"Universe size\": 100_000, \"Num sets\": 10_000, \"Density\": 0.1},\n",
    "        {\"Universe size\": 100_000, \"Num sets\": 10_000, \"Density\": 0.2},\n",
    "        {\"Universe size\": 100_000, \"Num sets\": 10_000, \"Density\": 0.3}\n",
    "    ]\n",
    "    \n",
    "    max_steps = 1000\n",
    "    candidates_per_step = 3\n",
    "    num_restarts = 5\n",
    "\n",
    "     # Parametri per Simulated Annealing\n",
    "    initial_temp = 1000\n",
    "    cooling_rate = 0.995\n",
    "\n",
    "    # Eseguire gli algoritmi per ogni combinazione\n",
    "    for instance in instances:\n",
    "        universe_size = instance[\"Universe size\"]\n",
    "        num_sets = instance[\"Num sets\"]\n",
    "        density = instance[\"Density\"]\n",
    "        print(f\"\\n--- Running for Universe size={universe_size}, Num sets={num_sets}, Density={density} ---\")\n",
    "        rng = np.random.Generator(np.random.PCG64([universe_size, num_sets, int(10_000 * density)]))\n",
    "        # Genera il dataset\n",
    "        SETS, COSTS = generate_sets(universe_size, num_sets, density)\n",
    "        solution = rng.random(num_sets) < 1\n",
    "        # Esecuzione degli algoritmi\n",
    "        print(\"Running Hill Climber...\")\n",
    "        hc_solution, hc_history = hill_climber(solution, SETS, COSTS, num_sets, max_steps)\n",
    "        print(\"Running Simulated Annealing...\")\n",
    "        sa_solution, sa_history = simulated_annealing(solution, SETS, COSTS, num_sets, max_steps, initial_temp, cooling_rate)\n",
    "        print(\"Running Steepest Ascent with Restarts...\")\n",
    "        sar_solution, sar_history = steepest_ascent_with_restart(SETS, COSTS, num_sets, max_steps, num_restarts, candidates_per_step)\n",
    "        \n",
    "        # Stampa delle migliori soluzioni\n",
    "        print(f\"Hill Climber best solution cost: {cost(hc_solution, COSTS)}\")\n",
    "        print(f\"Simulated Annealing best solution cost: {cost(sa_solution, COSTS)}\")\n",
    "        print(f\"Steepest Ascent with Restarts best solution cost: {cost(sar_solution, COSTS)}\")\n",
    "\n",
    "\n",
    "        # # Plot dei risultati\n",
    "        # plt.figure(figsize=(12, 6))\n",
    "        # plt.plot(hc_history, label=\"Hill Climber\", color=\"blue\")\n",
    "        # plt.plot(sa_history, label=\"Steepest Ascent\", color=\"green\")\n",
    "        # plt.plot(hcr_history, label=\"Hill Climber with Restarts\", color=\"red\")\n",
    "        # plt.xlabel(\"Steps\")\n",
    "        # plt.ylabel(\"Cost\")\n",
    "        # plt.legend()\n",
    "        # plt.title(f\"Cost Reduction for Universe size={universe_size}, Num sets={num_sets}, Density={density}\")\n",
    "        # plt.grid(True)\n",
    "        # plt.show()\n",
    "\n",
    "# Esegui il confronto tra gli algoritmi su tutte le combinazioni\n",
    "run_experiments()"
   ]
  }
 ],
 "metadata": {
  "kernelspec": {
   "display_name": "Python 3 (ipykernel)",
   "language": "python",
   "name": "python3"
  },
  "language_info": {
   "codemirror_mode": {
    "name": "ipython",
    "version": 3
   },
   "file_extension": ".py",
   "mimetype": "text/x-python",
   "name": "python",
   "nbconvert_exporter": "python",
   "pygments_lexer": "ipython3",
   "version": "3.12.3"
  }
 },
 "nbformat": 4,
 "nbformat_minor": 4
}
